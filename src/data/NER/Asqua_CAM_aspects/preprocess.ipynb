{
 "cells": [
  {
   "cell_type": "markdown",
   "metadata": {},
   "source": [
    "Привет, путник!\n",
    "Не знаю, зачем ты зашел в эту абсолютно хелповую тетрадь, но если уж зашел:\n",
    "\n",
    "* Было замечено, что моделька плохо парсит объекты и аспекты в вопросах\n",
    "* 2 варианта:\n",
    "  ее смущает форма вопроса\n",
    "  ее смущает слова, которые он не видела\n",
    "  \n",
    "* посмотреть, как оверлапится множество объектов для трейна и теста (ответ: очень хорошо, почти 100% перекрытие множеств именованных аспектов на трейне и тесте)\n",
    "* добавть в датасет вопросы\n",
    "* прикрутить елмо (не помогло)"
   ]
  },
  {
   "cell_type": "markdown",
   "metadata": {},
   "source": [
    "## 1"
   ]
  },
  {
   "cell_type": "code",
   "execution_count": 3,
   "metadata": {},
   "outputs": [
    {
     "name": "stdout",
     "output_type": "stream",
     "text": [
      "ACQuA - CAM Aspects release 28.02.2019 - convertedratings.csv\n",
      "CAM_dev.csv\n",
      "CAM_qw_new.csv\n",
      "CAM_qw_test.csv\n",
      "CAM_test.csv\n",
      "CAM_train.csv\n",
      "CAM_train_new.csv\n",
      "explore_dataset.ipynb\n",
      "run_command_line.ipynb\n"
     ]
    }
   ],
   "source": [
    "!lssetlocale: LC_ALL: cannot change locale (en_US.UTF-8)"
   ]
  },
  {
   "cell_type": "code",
   "execution_count": 4,
   "metadata": {},
   "outputs": [
    {
     "data": {
      "text/html": [
       "<div>\n",
       "<style scoped>\n",
       "    .dataframe tbody tr th:only-of-type {\n",
       "        vertical-align: middle;\n",
       "    }\n",
       "\n",
       "    .dataframe tbody tr th {\n",
       "        vertical-align: top;\n",
       "    }\n",
       "\n",
       "    .dataframe thead th {\n",
       "        text-align: right;\n",
       "    }\n",
       "</style>\n",
       "<table border=\"1\" class=\"dataframe\">\n",
       "  <thead>\n",
       "    <tr style=\"text-align: right;\">\n",
       "      <th></th>\n",
       "      <th>OBJECT A</th>\n",
       "      <th>OBJECT B</th>\n",
       "      <th>ASPECT</th>\n",
       "      <th>ASPECT BELONGS TO</th>\n",
       "      <th>MOST FREQUENT RATING</th>\n",
       "      <th>CONFIDENCE</th>\n",
       "      <th>AMOUNT OF GOOD RATINGS</th>\n",
       "      <th>AMOUNT OF BAD RATINGS</th>\n",
       "      <th>SENTENCE EXAMPLE 1</th>\n",
       "      <th>SENTENCE EXAMPLE 2</th>\n",
       "      <th>SENTENCE EXAMPLE 3</th>\n",
       "      <th>SENTENCE EXAMPLE 4</th>\n",
       "      <th>SENTENCE EXAMPLE 5</th>\n",
       "    </tr>\n",
       "  </thead>\n",
       "  <tbody>\n",
       "    <tr>\n",
       "      <th>0</th>\n",
       "      <td>golf</td>\n",
       "      <td>hockey</td>\n",
       "      <td>spot</td>\n",
       "      <td>golf</td>\n",
       "      <td>BAD</td>\n",
       "      <td>1.0</td>\n",
       "      <td>0</td>\n",
       "      <td>1</td>\n",
       "      <td>NaN</td>\n",
       "      <td>NaN</td>\n",
       "      <td>NaN</td>\n",
       "      <td>NaN</td>\n",
       "      <td>NaN</td>\n",
       "    </tr>\n",
       "    <tr>\n",
       "      <th>1</th>\n",
       "      <td>golf</td>\n",
       "      <td>hockey</td>\n",
       "      <td>greater</td>\n",
       "      <td>golf</td>\n",
       "      <td>BAD</td>\n",
       "      <td>1.0</td>\n",
       "      <td>0</td>\n",
       "      <td>1</td>\n",
       "      <td>in fact, athletes in individual sports (i.e., ...</td>\n",
       "      <td>first, athletes in individual sports (i.e., go...</td>\n",
       "      <td>NaN</td>\n",
       "      <td>NaN</td>\n",
       "      <td>NaN</td>\n",
       "    </tr>\n",
       "    <tr>\n",
       "      <th>2</th>\n",
       "      <td>golf</td>\n",
       "      <td>hockey</td>\n",
       "      <td>prof</td>\n",
       "      <td>golf</td>\n",
       "      <td>BAD</td>\n",
       "      <td>1.0</td>\n",
       "      <td>0</td>\n",
       "      <td>1</td>\n",
       "      <td>being in a massive hockey market, i can't thin...</td>\n",
       "      <td>NaN</td>\n",
       "      <td>NaN</td>\n",
       "      <td>NaN</td>\n",
       "      <td>NaN</td>\n",
       "    </tr>\n",
       "    <tr>\n",
       "      <th>3</th>\n",
       "      <td>golf</td>\n",
       "      <td>hockey</td>\n",
       "      <td>arm</td>\n",
       "      <td>golf</td>\n",
       "      <td>BAD</td>\n",
       "      <td>1.0</td>\n",
       "      <td>0</td>\n",
       "      <td>1</td>\n",
       "      <td>NaN</td>\n",
       "      <td>NaN</td>\n",
       "      <td>NaN</td>\n",
       "      <td>NaN</td>\n",
       "      <td>NaN</td>\n",
       "    </tr>\n",
       "    <tr>\n",
       "      <th>4</th>\n",
       "      <td>golf</td>\n",
       "      <td>hockey</td>\n",
       "      <td>mcphee</td>\n",
       "      <td>golf</td>\n",
       "      <td>BAD</td>\n",
       "      <td>1.0</td>\n",
       "      <td>0</td>\n",
       "      <td>1</td>\n",
       "      <td>NaN</td>\n",
       "      <td>NaN</td>\n",
       "      <td>NaN</td>\n",
       "      <td>NaN</td>\n",
       "      <td>NaN</td>\n",
       "    </tr>\n",
       "  </tbody>\n",
       "</table>\n",
       "</div>"
      ],
      "text/plain": [
       "  OBJECT A OBJECT B   ASPECT ASPECT BELONGS TO MOST FREQUENT RATING  \\\n",
       "0     golf   hockey     spot              golf                  BAD   \n",
       "1     golf   hockey  greater              golf                  BAD   \n",
       "2     golf   hockey     prof              golf                  BAD   \n",
       "3     golf   hockey      arm              golf                  BAD   \n",
       "4     golf   hockey   mcphee              golf                  BAD   \n",
       "\n",
       "   CONFIDENCE  AMOUNT OF GOOD RATINGS  AMOUNT OF BAD RATINGS  \\\n",
       "0         1.0                       0                      1   \n",
       "1         1.0                       0                      1   \n",
       "2         1.0                       0                      1   \n",
       "3         1.0                       0                      1   \n",
       "4         1.0                       0                      1   \n",
       "\n",
       "                                  SENTENCE EXAMPLE 1  \\\n",
       "0                                                NaN   \n",
       "1  in fact, athletes in individual sports (i.e., ...   \n",
       "2  being in a massive hockey market, i can't thin...   \n",
       "3                                                NaN   \n",
       "4                                                NaN   \n",
       "\n",
       "                                  SENTENCE EXAMPLE 2 SENTENCE EXAMPLE 3  \\\n",
       "0                                                NaN                NaN   \n",
       "1  first, athletes in individual sports (i.e., go...                NaN   \n",
       "2                                                NaN                NaN   \n",
       "3                                                NaN                NaN   \n",
       "4                                                NaN                NaN   \n",
       "\n",
       "  SENTENCE EXAMPLE 4 SENTENCE EXAMPLE 5  \n",
       "0                NaN                NaN  \n",
       "1                NaN                NaN  \n",
       "2                NaN                NaN  \n",
       "3                NaN                NaN  \n",
       "4                NaN                NaN  "
      ]
     },
     "execution_count": 4,
     "metadata": {},
     "output_type": "execute_result"
    }
   ],
   "source": [
    "import pandas as pd\n",
    "\n",
    "aspect_df = pd.read_csv('ACQuA - CAM Aspects release 28.02.2019 - convertedratings.csv')\n",
    "aspect_df.head()"
   ]
  },
  {
   "cell_type": "code",
   "execution_count": 3,
   "metadata": {},
   "outputs": [
    {
     "name": "stdout",
     "output_type": "stream",
     "text": [
      "File Successfully written.\n"
     ]
    }
   ],
   "source": [
    "csv_file = 'CAM_test.csv'\n",
    "txt_file = 'test.txt'\n",
    "\n",
    "text_list = []\n",
    "\n",
    "with open(csv_file, \"r\", encoding=\"utf-8\") as my_input_file:\n",
    "    for line in my_input_file:\n",
    "        line = line.split(\",\", 2)\n",
    "        text_list.append(\" \".join(line))\n",
    "\n",
    "with open(txt_file, \"w\", encoding=\"utf-8\") as my_output_file:\n",
    "    my_output_file.write(\"#1\\n\")\n",
    "    my_output_file.write(\"double({},{})\\n\".format(len(text_list), 2))\n",
    "    for line in text_list:\n",
    "        my_output_file.write(\"  \" + line)\n",
    "    print('File Successfully written.')"
   ]
  },
  {
   "cell_type": "code",
   "execution_count": 6,
   "metadata": {},
   "outputs": [
    {
     "ename": "NameError",
     "evalue": "name 'wq_df' is not defined",
     "output_type": "error",
     "traceback": [
      "\u001b[0;31m---------------------------------------------------------------------------\u001b[0m",
      "\u001b[0;31mNameError\u001b[0m                                 Traceback (most recent call last)",
      "\u001b[0;32m<ipython-input-6-e914ce5cafa6>\u001b[0m in \u001b[0;36m<module>\u001b[0;34m\u001b[0m\n\u001b[1;32m      4\u001b[0m \u001b[0;32mwith\u001b[0m \u001b[0mcodecs\u001b[0m\u001b[0;34m.\u001b[0m\u001b[0mopen\u001b[0m\u001b[0;34m(\u001b[0m\u001b[0;34m'CAM_qw_test.csv'\u001b[0m\u001b[0;34m,\u001b[0m \u001b[0;34m'w'\u001b[0m\u001b[0;34m,\u001b[0m \u001b[0;34m'utf-8'\u001b[0m\u001b[0;34m)\u001b[0m \u001b[0;32mas\u001b[0m \u001b[0mf\u001b[0m\u001b[0;34m:\u001b[0m\u001b[0;34m\u001b[0m\u001b[0m\n\u001b[1;32m      5\u001b[0m     \u001b[0mwriter\u001b[0m \u001b[0;34m=\u001b[0m \u001b[0mcsv\u001b[0m\u001b[0;34m.\u001b[0m\u001b[0mwriter\u001b[0m\u001b[0;34m(\u001b[0m\u001b[0mf\u001b[0m\u001b[0;34m)\u001b[0m\u001b[0;34m\u001b[0m\u001b[0m\n\u001b[0;32m----> 6\u001b[0;31m     \u001b[0;32mfor\u001b[0m \u001b[0melem\u001b[0m \u001b[0;32min\u001b[0m \u001b[0mzip\u001b[0m\u001b[0;34m(\u001b[0m\u001b[0mwq_df\u001b[0m\u001b[0;34m[\u001b[0m\u001b[0;34m'word'\u001b[0m\u001b[0;34m]\u001b[0m\u001b[0;34m.\u001b[0m\u001b[0mvalues\u001b[0m\u001b[0;34m,\u001b[0m \u001b[0mwq_df\u001b[0m\u001b[0;34m[\u001b[0m\u001b[0;34m'tag'\u001b[0m\u001b[0;34m]\u001b[0m\u001b[0;34m.\u001b[0m\u001b[0mvalues\u001b[0m\u001b[0;34m)\u001b[0m\u001b[0;34m:\u001b[0m\u001b[0;34m\u001b[0m\u001b[0m\n\u001b[0m\u001b[1;32m      7\u001b[0m         \u001b[0mprint\u001b[0m \u001b[0;34m(\u001b[0m\u001b[0melem\u001b[0m\u001b[0;34m)\u001b[0m\u001b[0;34m\u001b[0m\u001b[0m\n\u001b[1;32m      8\u001b[0m         \u001b[0mi\u001b[0m \u001b[0;34m=\u001b[0m \u001b[0mi\u001b[0m\u001b[0;34m+\u001b[0m\u001b[0;36m1\u001b[0m\u001b[0;34m\u001b[0m\u001b[0m\n",
      "\u001b[0;31mNameError\u001b[0m: name 'wq_df' is not defined"
     ]
    }
   ],
   "source": [
    "import codecs\n",
    "import csv\n",
    "\n",
    "i = 0\n",
    "with codecs.open('CAM_qw_test.csv', 'w', 'utf-8') as f:\n",
    "    writer = csv.writer(f)\n",
    "    for elem in zip(wq_df['word'].values, wq_df['tag'].values):\n",
    "        print (elem)\n",
    "        i = i+1\n",
    "        writer.writerow(elem)"
   ]
  },
  {
   "cell_type": "code",
   "execution_count": 82,
   "metadata": {},
   "outputs": [],
   "source": [
    "import pandas as pd\n",
    "train = pd.read_csv(\"CAM_train.csv\", names = ['word', 'tag'], sep = ' ')\n",
    "test = pd.read_csv(\"CAM_test.csv\", names = ['word', 'tag'], sep = ' ')\n",
    "dev = pd.read_csv(\"CAM_dev.csv\",  names = ['word', 'tag'], sep = ' ')"
   ]
  },
  {
   "cell_type": "code",
   "execution_count": 76,
   "metadata": {},
   "outputs": [],
   "source": [
    "train[2:].to_csv('CAM_train.csv', index=False, header=False, sep = ' ')"
   ]
  },
  {
   "cell_type": "code",
   "execution_count": 81,
   "metadata": {},
   "outputs": [],
   "source": [
    "test[2:].to_csv('CAM_test.csv', index=False, header=False, sep = ' ')\n",
    "dev[2:].to_csv('CAM_dev.csv', index=False, header=False, sep = ' ')"
   ]
  },
  {
   "cell_type": "code",
   "execution_count": 84,
   "metadata": {},
   "outputs": [
    {
     "data": {
      "text/html": [
       "<div>\n",
       "<style scoped>\n",
       "    .dataframe tbody tr th:only-of-type {\n",
       "        vertical-align: middle;\n",
       "    }\n",
       "\n",
       "    .dataframe tbody tr th {\n",
       "        vertical-align: top;\n",
       "    }\n",
       "\n",
       "    .dataframe thead th {\n",
       "        text-align: right;\n",
       "    }\n",
       "</style>\n",
       "<table border=\"1\" class=\"dataframe\">\n",
       "  <thead>\n",
       "    <tr style=\"text-align: right;\">\n",
       "      <th></th>\n",
       "      <th>word</th>\n",
       "      <th>tag</th>\n",
       "    </tr>\n",
       "  </thead>\n",
       "  <tbody>\n",
       "    <tr>\n",
       "      <th>0</th>\n",
       "      <td>and</td>\n",
       "      <td>O</td>\n",
       "    </tr>\n",
       "    <tr>\n",
       "      <th>1</th>\n",
       "      <td>can</td>\n",
       "      <td>O</td>\n",
       "    </tr>\n",
       "    <tr>\n",
       "      <th>2</th>\n",
       "      <td>i</td>\n",
       "      <td>O</td>\n",
       "    </tr>\n",
       "    <tr>\n",
       "      <th>3</th>\n",
       "      <td>just</td>\n",
       "      <td>O</td>\n",
       "    </tr>\n",
       "    <tr>\n",
       "      <th>4</th>\n",
       "      <td>say</td>\n",
       "      <td>O</td>\n",
       "    </tr>\n",
       "    <tr>\n",
       "      <th>5</th>\n",
       "      <td>that</td>\n",
       "      <td>O</td>\n",
       "    </tr>\n",
       "    <tr>\n",
       "      <th>6</th>\n",
       "      <td>doing</td>\n",
       "      <td>O</td>\n",
       "    </tr>\n",
       "    <tr>\n",
       "      <th>7</th>\n",
       "      <td>the</td>\n",
       "      <td>O</td>\n",
       "    </tr>\n",
       "    <tr>\n",
       "      <th>8</th>\n",
       "      <td>inferno</td>\n",
       "      <td>O</td>\n",
       "    </tr>\n",
       "    <tr>\n",
       "      <th>9</th>\n",
       "      <td>move</td>\n",
       "      <td>O</td>\n",
       "    </tr>\n",
       "    <tr>\n",
       "      <th>10</th>\n",
       "      <td>on</td>\n",
       "      <td>O</td>\n",
       "    </tr>\n",
       "    <tr>\n",
       "      <th>11</th>\n",
       "      <td>the</td>\n",
       "      <td>O</td>\n",
       "    </tr>\n",
       "    <tr>\n",
       "      <th>12</th>\n",
       "      <td>ds</td>\n",
       "      <td>B-ASPOBJ</td>\n",
       "    </tr>\n",
       "    <tr>\n",
       "      <th>13</th>\n",
       "      <td>is</td>\n",
       "      <td>O</td>\n",
       "    </tr>\n",
       "    <tr>\n",
       "      <th>14</th>\n",
       "      <td>50</td>\n",
       "      <td>O</td>\n",
       "    </tr>\n",
       "  </tbody>\n",
       "</table>\n",
       "</div>"
      ],
      "text/plain": [
       "       word       tag\n",
       "0       and         O\n",
       "1       can         O\n",
       "2         i         O\n",
       "3      just         O\n",
       "4       say         O\n",
       "5      that         O\n",
       "6     doing         O\n",
       "7       the         O\n",
       "8   inferno         O\n",
       "9      move         O\n",
       "10       on         O\n",
       "11      the         O\n",
       "12       ds  B-ASPOBJ\n",
       "13       is         O\n",
       "14       50         O"
      ]
     },
     "execution_count": 84,
     "metadata": {},
     "output_type": "execute_result"
    }
   ],
   "source": [
    "dev.head(15)"
   ]
  },
  {
   "cell_type": "code",
   "execution_count": null,
   "metadata": {},
   "outputs": [],
   "source": [
    "with codecs.open('test.csv', 'w', 'utf-8') as f:\n",
    "    writer = csv.writer(f)\n",
    "    for elem in zip(test['word'].values, test['tag'].values):\n",
    "        print (elem)\n",
    "        i = i+1\n",
    "        writer.writerow(elem)"
   ]
  },
  {
   "cell_type": "code",
   "execution_count": 59,
   "metadata": {},
   "outputs": [
    {
     "data": {
      "text/html": [
       "<div>\n",
       "<style scoped>\n",
       "    .dataframe tbody tr th:only-of-type {\n",
       "        vertical-align: middle;\n",
       "    }\n",
       "\n",
       "    .dataframe tbody tr th {\n",
       "        vertical-align: top;\n",
       "    }\n",
       "\n",
       "    .dataframe thead th {\n",
       "        text-align: right;\n",
       "    }\n",
       "</style>\n",
       "<table border=\"1\" class=\"dataframe\">\n",
       "  <thead>\n",
       "    <tr style=\"text-align: right;\">\n",
       "      <th></th>\n",
       "      <th>word</th>\n",
       "      <th>tag</th>\n",
       "    </tr>\n",
       "  </thead>\n",
       "  <tbody>\n",
       "    <tr>\n",
       "      <th>0</th>\n",
       "      <td>1tb</td>\n",
       "      <td>O</td>\n",
       "    </tr>\n",
       "    <tr>\n",
       "      <th>1</th>\n",
       "      <td>of</td>\n",
       "      <td>O</td>\n",
       "    </tr>\n",
       "    <tr>\n",
       "      <th>2</th>\n",
       "      <td>mechanical</td>\n",
       "      <td>O</td>\n",
       "    </tr>\n",
       "    <tr>\n",
       "      <th>3</th>\n",
       "      <td>storage</td>\n",
       "      <td>O</td>\n",
       "    </tr>\n",
       "    <tr>\n",
       "      <th>4</th>\n",
       "      <td>is</td>\n",
       "      <td>O</td>\n",
       "    </tr>\n",
       "  </tbody>\n",
       "</table>\n",
       "</div>"
      ],
      "text/plain": [
       "         word tag\n",
       "0         1tb   O\n",
       "1          of   O\n",
       "2  mechanical   O\n",
       "3     storage   O\n",
       "4          is   O"
      ]
     },
     "execution_count": 59,
     "metadata": {},
     "output_type": "execute_result"
    }
   ],
   "source": [
    "train.head()"
   ]
  },
  {
   "cell_type": "code",
   "execution_count": 38,
   "metadata": {},
   "outputs": [],
   "source": [
    "test.to_csv('test.txt', header=False, index=False, sep =' ')"
   ]
  },
  {
   "cell_type": "code",
   "execution_count": 26,
   "metadata": {},
   "outputs": [],
   "source": [
    "#train.to_csv('train.txt', header=False, index=False, sep = ' ')\n",
    "dev.to_csv('dev.txt', header=False, index=False, sep = ' ')"
   ]
  },
  {
   "cell_type": "code",
   "execution_count": 17,
   "metadata": {},
   "outputs": [],
   "source": [
    "import pandas as pd\n",
    "\n",
    "new_df = pd.read_csv(\"CAM_train.csv\", names = ['word', 'tag'])\n",
    "new_df_test = pd.read_csv(\"CAM_test.csv\", names = ['word', 'tag'])"
   ]
  },
  {
   "cell_type": "code",
   "execution_count": 18,
   "metadata": {},
   "outputs": [],
   "source": [
    "a = new_df_train['word'].values[43]"
   ]
  },
  {
   "cell_type": "code",
   "execution_count": 19,
   "metadata": {},
   "outputs": [],
   "source": [
    "b = new_df['word'].values[43]"
   ]
  },
  {
   "cell_type": "code",
   "execution_count": 20,
   "metadata": {},
   "outputs": [
    {
     "data": {
      "text/plain": [
       "False"
      ]
     },
     "execution_count": 20,
     "metadata": {},
     "output_type": "execute_result"
    }
   ],
   "source": [
    "a == b"
   ]
  },
  {
   "cell_type": "code",
   "execution_count": 21,
   "metadata": {},
   "outputs": [
    {
     "data": {
      "text/plain": [
       "array(['u', 'is', 'just', 'about', 'to', 'hit', 'it', 's', '3rd', 'month',\n",
       "       ',', 'way', 'too', 'early', 'to', 'give', 'up', 'on', 'it', 'yet',\n",
       "       ',', 'and', '3ds', 'is', 'selling', 'faster', 'than', 'ds', '.',\n",
       "       nan, 'the', 'amazon', 'appstore', 'is', 'doing', 'a', 'better',\n",
       "       'job', 'selling', 'apps', 'than', 'google', 'play', 'is', '.'],\n",
       "      dtype=object)"
      ]
     },
     "execution_count": 21,
     "metadata": {},
     "output_type": "execute_result"
    }
   ],
   "source": [
    "new_df_train['word'].values[-45:]"
   ]
  },
  {
   "cell_type": "code",
   "execution_count": 22,
   "metadata": {},
   "outputs": [
    {
     "data": {
      "text/plain": [
       "array(['and', 'seagate', '.', nan, 'amazon'], dtype=object)"
      ]
     },
     "execution_count": 22,
     "metadata": {},
     "output_type": "execute_result"
    }
   ],
   "source": [
    "new_df['word'].values[40:45]"
   ]
  },
  {
   "cell_type": "code",
   "execution_count": 23,
   "metadata": {},
   "outputs": [
    {
     "data": {
      "text/plain": [
       "['O', 'B-OTHOBJ', 'B-ASPOBJ', nan, 'B-ASP', 'I-ASP', 'I-ASPOBJ', 'I-OTHOBJ']"
      ]
     },
     "execution_count": 23,
     "metadata": {},
     "output_type": "execute_result"
    }
   ],
   "source": [
    "list_ = []\n",
    "for elem in new_df['tag'].values:\n",
    "    if not(elem in list_):\n",
    "        list_.append(elem)\n",
    "list_"
   ]
  },
  {
   "cell_type": "code",
   "execution_count": null,
   "metadata": {},
   "outputs": [],
   "source": []
  },
  {
   "cell_type": "code",
   "execution_count": 24,
   "metadata": {},
   "outputs": [],
   "source": [
    "list_of_object_pairs = []\n",
    "for elem in zip(aspect_df['OBJECT A'].values, aspect_df['OBJECT B'].values):\n",
    "    if elem not in list_of_object_pairs:\n",
    "        list_of_object_pairs.append(elem)"
   ]
  },
  {
   "cell_type": "code",
   "execution_count": 25,
   "metadata": {},
   "outputs": [],
   "source": [
    "train_names = []\n",
    "test_names = []\n",
    "\n",
    "for word, tag in zip(new_df['word'].values, new_df['tag'].values):\n",
    "    if (tag == 'B-ASPOBJ' or tag == 'B-OTHOBJ'):\n",
    "        if (word not in train_names):\n",
    "            train_names.append(word)\n",
    "            \n",
    "for word, tag in zip(new_df_test['word'].values, new_df_test['tag'].values):\n",
    "    if (tag == 'B-ASPOBJ' or tag == 'B-OTHOBJ'):\n",
    "        if (word not in test_names):\n",
    "            test_names.append(word)\n",
    "            \n",
    "train_names = sorted(train_names)\n",
    "test_names = sorted(test_names)"
   ]
  },
  {
   "cell_type": "code",
   "execution_count": 26,
   "metadata": {},
   "outputs": [
    {
     "name": "stdout",
     "output_type": "stream",
     "text": [
      "119 110\n"
     ]
    }
   ],
   "source": [
    "print (len(train_names), len(test_names))"
   ]
  },
  {
   "cell_type": "code",
   "execution_count": 27,
   "metadata": {},
   "outputs": [
    {
     "name": "stdout",
     "output_type": "stream",
     "text": [
      "110\n"
     ]
    }
   ],
   "source": [
    "common = []\n",
    "for elem in train_names:\n",
    "    if elem in test_names:\n",
    "        common.append(elem)\n",
    "        \n",
    "print (len(common))"
   ]
  },
  {
   "cell_type": "markdown",
   "metadata": {},
   "source": [
    "** в общем, полный оверлаппинг **"
   ]
  },
  {
   "cell_type": "markdown",
   "metadata": {},
   "source": [
    "*Создадим искуственный датасет на вопросах*"
   ]
  },
  {
   "cell_type": "code",
   "execution_count": 28,
   "metadata": {},
   "outputs": [],
   "source": [
    "import random\n",
    "import numpy as np\n",
    "wq_df = pd.DataFrame(columns = ['word', 'tag'])\n",
    "\n",
    "comparative_word = ['better', 'easier', 'faster', 'nicer', 'wiser','safer', 'worse', 'harder', 'slower', 'poorly']\n",
    "for elem in list_of_object_pairs:\n",
    "    qw_type = random.choice([0, 1, 0, 1, 2])\n",
    "    if (qw_type == 0):\n",
    "        wq_df = wq_df.append({'word':'is', 'tag':'O'}, ignore_index=True)\n",
    "        wq_df =wq_df.append({'word':elem[0], 'tag':'B-ASPOBJ'}, ignore_index=True)\n",
    "        \n",
    "        asp = np.random.choice(comparative_word, 1, p=[0.55, 0.05, 0.05, 0.05, 0.05, 0.05, 0.05, 0.05, 0.05, 0.05])\n",
    "        if (asp[0] != 'better'):\n",
    "            wq_df = wq_df.append({'word':asp[0], 'tag':'B-ASP'}, ignore_index=True)\n",
    "        else:\n",
    "            wq_df = wq_df.append({'word':asp[0], 'tag':'O'}, ignore_index=True)\n",
    "        wq_df = wq_df.append({'word':'than', 'tag':'O'}, ignore_index=True)\n",
    "        wq_df = wq_df.append({'word':elem[1], 'tag':'B-OTHOBJ'}, ignore_index=True)\n",
    "        wq_df = wq_df.append({'word':'', 'tag':''}, ignore_index=True)\n",
    "        \n",
    "    elif (qw_type == 1):\n",
    "        wq_df = wq_df.append({'word':'what', 'tag':'O'}, ignore_index=True)\n",
    "        wq_df = wq_df.append({'word':'is', 'tag':'O'}, ignore_index=True)\n",
    "        \n",
    "        asp = np.random.choice(comparative_word, 1, p=[0.55, 0.05, 0.05, 0.05, 0.05, 0.05, 0.05, 0.05, 0.05, 0.05])\n",
    "        if (asp[0] != 'better'):\n",
    "            wq_df = wq_df.append({'word':asp[0], 'tag':'B-ASP'}, ignore_index=True)\n",
    "        else:\n",
    "            wq_df = wq_df.append({'word':asp[0], 'tag':'O'}, ignore_index=True)\n",
    "        \n",
    "        wq_df = wq_df.append({'word':elem[0], 'tag':'B-ASPOBJ'}, ignore_index=True)\n",
    "        wq_df = wq_df.append({'word':'or', 'tag':'O'}, ignore_index=True)\n",
    "\n",
    "        wq_df = wq_df.append({'word':elem[1], 'tag':'B-OTHOBJ'}, ignore_index=True)\n",
    "        wq_df = wq_df.append({'word':'', 'tag':''}, ignore_index=True)\n",
    "        \n",
    "    elif (qw_type == 2):\n",
    "        wq_df = wq_df.append({'word':elem[0], 'tag':'B-ASPOBJ'}, ignore_index=True)\n",
    "        wq_df = wq_df.append({'word':'vs', 'tag':'O'}, ignore_index=True)\n",
    "        wq_df = wq_df.append({'word':elem[1], 'tag':'B-OTHOBJ'},ignore_index=True)\n",
    "        wq_df = wq_df.append({'word':'', 'tag':''}, ignore_index=True)\n",
    "    "
   ]
  },
  {
   "cell_type": "code",
   "execution_count": 88,
   "metadata": {},
   "outputs": [],
   "source": [
    "wq_df.to_csv('CAM_qw_test.csv')"
   ]
  },
  {
   "cell_type": "code",
   "execution_count": 1,
   "metadata": {},
   "outputs": [
    {
     "ename": "NameError",
     "evalue": "name 'wq_df' is not defined",
     "output_type": "error",
     "traceback": [
      "\u001b[0;31m---------------------------------------------------------------------------\u001b[0m",
      "\u001b[0;31mNameError\u001b[0m                                 Traceback (most recent call last)",
      "\u001b[0;32m<ipython-input-1-e2ecb7234161>\u001b[0m in \u001b[0;36m<module>\u001b[0;34m\u001b[0m\n\u001b[0;32m----> 1\u001b[0;31m \u001b[0mlen\u001b[0m\u001b[0;34m(\u001b[0m\u001b[0mwq_df\u001b[0m\u001b[0;34m)\u001b[0m\u001b[0;34m\u001b[0m\u001b[0m\n\u001b[0m",
      "\u001b[0;31mNameError\u001b[0m: name 'wq_df' is not defined"
     ]
    }
   ],
   "source": [
    "len(wq_df)"
   ]
  },
  {
   "cell_type": "code",
   "execution_count": 36,
   "metadata": {},
   "outputs": [],
   "source": [
    "wq_df_to_train = wq_df[:300].reset_index(drop=True)\n",
    "wq_df_to_test = wq_df[301:].reset_index(drop=True)"
   ]
  },
  {
   "cell_type": "code",
   "execution_count": 40,
   "metadata": {},
   "outputs": [],
   "source": [
    "new_df = new_df.append(wq_df_to_train, ignore_index=True)\n",
    "new_df_test = new_df_test.append(wq_df_to_test, ignore_index=True)"
   ]
  },
  {
   "cell_type": "code",
   "execution_count": 38,
   "metadata": {},
   "outputs": [],
   "source": [
    "new_df.to_csv('CAM_train_new.csv', index=False)"
   ]
  },
  {
   "cell_type": "code",
   "execution_count": 42,
   "metadata": {},
   "outputs": [],
   "source": [
    "new_df_test.to_csv('CAM_test_new.csv', index=False)"
   ]
  },
  {
   "cell_type": "code",
   "execution_count": 28,
   "metadata": {},
   "outputs": [
    {
     "data": {
      "text/html": [
       "<div>\n",
       "<style scoped>\n",
       "    .dataframe tbody tr th:only-of-type {\n",
       "        vertical-align: middle;\n",
       "    }\n",
       "\n",
       "    .dataframe tbody tr th {\n",
       "        vertical-align: top;\n",
       "    }\n",
       "\n",
       "    .dataframe thead th {\n",
       "        text-align: right;\n",
       "    }\n",
       "</style>\n",
       "<table border=\"1\" class=\"dataframe\">\n",
       "  <thead>\n",
       "    <tr style=\"text-align: right;\">\n",
       "      <th></th>\n",
       "      <th>word</th>\n",
       "      <th>tag</th>\n",
       "    </tr>\n",
       "  </thead>\n",
       "  <tbody>\n",
       "    <tr>\n",
       "      <th>0</th>\n",
       "      <td></td>\n",
       "      <td></td>\n",
       "    </tr>\n",
       "    <tr>\n",
       "      <th>1</th>\n",
       "      <td>is</td>\n",
       "      <td>O</td>\n",
       "    </tr>\n",
       "    <tr>\n",
       "      <th>2</th>\n",
       "      <td>pasta</td>\n",
       "      <td>B-ASPOBJ</td>\n",
       "    </tr>\n",
       "    <tr>\n",
       "      <th>3</th>\n",
       "      <td>better</td>\n",
       "      <td>0</td>\n",
       "    </tr>\n",
       "    <tr>\n",
       "      <th>4</th>\n",
       "      <td>than</td>\n",
       "      <td>0</td>\n",
       "    </tr>\n",
       "    <tr>\n",
       "      <th>5</th>\n",
       "      <td>pizza</td>\n",
       "      <td>B-OTHOBJ</td>\n",
       "    </tr>\n",
       "    <tr>\n",
       "      <th>6</th>\n",
       "      <td>?</td>\n",
       "      <td>0</td>\n",
       "    </tr>\n",
       "    <tr>\n",
       "      <th>7</th>\n",
       "      <td></td>\n",
       "      <td></td>\n",
       "    </tr>\n",
       "    <tr>\n",
       "      <th>8</th>\n",
       "      <td>is</td>\n",
       "      <td>O</td>\n",
       "    </tr>\n",
       "    <tr>\n",
       "      <th>9</th>\n",
       "      <td>mysql</td>\n",
       "      <td>B-ASPOBJ</td>\n",
       "    </tr>\n",
       "    <tr>\n",
       "      <th>10</th>\n",
       "      <td>better</td>\n",
       "      <td>0</td>\n",
       "    </tr>\n",
       "    <tr>\n",
       "      <th>11</th>\n",
       "      <td>than</td>\n",
       "      <td>0</td>\n",
       "    </tr>\n",
       "    <tr>\n",
       "      <th>12</th>\n",
       "      <td>postgresql</td>\n",
       "      <td>B-OTHOBJ</td>\n",
       "    </tr>\n",
       "    <tr>\n",
       "      <th>13</th>\n",
       "      <td>?</td>\n",
       "      <td>0</td>\n",
       "    </tr>\n",
       "    <tr>\n",
       "      <th>14</th>\n",
       "      <td></td>\n",
       "      <td></td>\n",
       "    </tr>\n",
       "    <tr>\n",
       "      <th>15</th>\n",
       "      <td>california</td>\n",
       "      <td>B-ASPOBJ</td>\n",
       "    </tr>\n",
       "    <tr>\n",
       "      <th>16</th>\n",
       "      <td>vs</td>\n",
       "      <td>0</td>\n",
       "    </tr>\n",
       "    <tr>\n",
       "      <th>17</th>\n",
       "      <td>michigan</td>\n",
       "      <td>B-OTHOBJ</td>\n",
       "    </tr>\n",
       "    <tr>\n",
       "      <th>18</th>\n",
       "      <td></td>\n",
       "      <td></td>\n",
       "    </tr>\n",
       "    <tr>\n",
       "      <th>19</th>\n",
       "      <td>is</td>\n",
       "      <td>O</td>\n",
       "    </tr>\n",
       "    <tr>\n",
       "      <th>20</th>\n",
       "      <td>ps2</td>\n",
       "      <td>B-ASPOBJ</td>\n",
       "    </tr>\n",
       "    <tr>\n",
       "      <th>21</th>\n",
       "      <td>worse</td>\n",
       "      <td>B ASP</td>\n",
       "    </tr>\n",
       "    <tr>\n",
       "      <th>22</th>\n",
       "      <td>than</td>\n",
       "      <td>0</td>\n",
       "    </tr>\n",
       "    <tr>\n",
       "      <th>23</th>\n",
       "      <td>psp</td>\n",
       "      <td>B-OTHOBJ</td>\n",
       "    </tr>\n",
       "    <tr>\n",
       "      <th>24</th>\n",
       "      <td>?</td>\n",
       "      <td>0</td>\n",
       "    </tr>\n",
       "    <tr>\n",
       "      <th>25</th>\n",
       "      <td></td>\n",
       "      <td></td>\n",
       "    </tr>\n",
       "    <tr>\n",
       "      <th>26</th>\n",
       "      <td>what</td>\n",
       "      <td>O</td>\n",
       "    </tr>\n",
       "    <tr>\n",
       "      <th>27</th>\n",
       "      <td>is</td>\n",
       "      <td>O</td>\n",
       "    </tr>\n",
       "    <tr>\n",
       "      <th>28</th>\n",
       "      <td>better</td>\n",
       "      <td>0</td>\n",
       "    </tr>\n",
       "    <tr>\n",
       "      <th>29</th>\n",
       "      <td>fishing</td>\n",
       "      <td>B-ASPOBJ</td>\n",
       "    </tr>\n",
       "    <tr>\n",
       "      <th>...</th>\n",
       "      <td>...</td>\n",
       "      <td>...</td>\n",
       "    </tr>\n",
       "    <tr>\n",
       "      <th>442</th>\n",
       "      <td>is</td>\n",
       "      <td>O</td>\n",
       "    </tr>\n",
       "    <tr>\n",
       "      <th>443</th>\n",
       "      <td>chrysler</td>\n",
       "      <td>B-ASPOBJ</td>\n",
       "    </tr>\n",
       "    <tr>\n",
       "      <th>444</th>\n",
       "      <td>easier</td>\n",
       "      <td>B ASP</td>\n",
       "    </tr>\n",
       "    <tr>\n",
       "      <th>445</th>\n",
       "      <td>than</td>\n",
       "      <td>0</td>\n",
       "    </tr>\n",
       "    <tr>\n",
       "      <th>446</th>\n",
       "      <td>toyota</td>\n",
       "      <td>B-OTHOBJ</td>\n",
       "    </tr>\n",
       "    <tr>\n",
       "      <th>447</th>\n",
       "      <td>?</td>\n",
       "      <td>0</td>\n",
       "    </tr>\n",
       "    <tr>\n",
       "      <th>448</th>\n",
       "      <td></td>\n",
       "      <td></td>\n",
       "    </tr>\n",
       "    <tr>\n",
       "      <th>449</th>\n",
       "      <td>what</td>\n",
       "      <td>O</td>\n",
       "    </tr>\n",
       "    <tr>\n",
       "      <th>450</th>\n",
       "      <td>is</td>\n",
       "      <td>O</td>\n",
       "    </tr>\n",
       "    <tr>\n",
       "      <th>451</th>\n",
       "      <td>slower</td>\n",
       "      <td>B ASP</td>\n",
       "    </tr>\n",
       "    <tr>\n",
       "      <th>452</th>\n",
       "      <td>pasta</td>\n",
       "      <td>B-ASPOBJ</td>\n",
       "    </tr>\n",
       "    <tr>\n",
       "      <th>453</th>\n",
       "      <td>or</td>\n",
       "      <td>0</td>\n",
       "    </tr>\n",
       "    <tr>\n",
       "      <th>454</th>\n",
       "      <td>soup</td>\n",
       "      <td>B-OTHOBJ</td>\n",
       "    </tr>\n",
       "    <tr>\n",
       "      <th>455</th>\n",
       "      <td>?</td>\n",
       "      <td>0</td>\n",
       "    </tr>\n",
       "    <tr>\n",
       "      <th>456</th>\n",
       "      <td></td>\n",
       "      <td></td>\n",
       "    </tr>\n",
       "    <tr>\n",
       "      <th>457</th>\n",
       "      <td>what</td>\n",
       "      <td>O</td>\n",
       "    </tr>\n",
       "    <tr>\n",
       "      <th>458</th>\n",
       "      <td>is</td>\n",
       "      <td>O</td>\n",
       "    </tr>\n",
       "    <tr>\n",
       "      <th>459</th>\n",
       "      <td>nicer</td>\n",
       "      <td>B ASP</td>\n",
       "    </tr>\n",
       "    <tr>\n",
       "      <th>460</th>\n",
       "      <td>gamecube</td>\n",
       "      <td>B-ASPOBJ</td>\n",
       "    </tr>\n",
       "    <tr>\n",
       "      <th>461</th>\n",
       "      <td>or</td>\n",
       "      <td>0</td>\n",
       "    </tr>\n",
       "    <tr>\n",
       "      <th>462</th>\n",
       "      <td>playstation</td>\n",
       "      <td>B-OTHOBJ</td>\n",
       "    </tr>\n",
       "    <tr>\n",
       "      <th>463</th>\n",
       "      <td>?</td>\n",
       "      <td>0</td>\n",
       "    </tr>\n",
       "    <tr>\n",
       "      <th>464</th>\n",
       "      <td></td>\n",
       "      <td></td>\n",
       "    </tr>\n",
       "    <tr>\n",
       "      <th>465</th>\n",
       "      <td>is</td>\n",
       "      <td>O</td>\n",
       "    </tr>\n",
       "    <tr>\n",
       "      <th>466</th>\n",
       "      <td>iphone</td>\n",
       "      <td>B-ASPOBJ</td>\n",
       "    </tr>\n",
       "    <tr>\n",
       "      <th>467</th>\n",
       "      <td>better</td>\n",
       "      <td>0</td>\n",
       "    </tr>\n",
       "    <tr>\n",
       "      <th>468</th>\n",
       "      <td>than</td>\n",
       "      <td>0</td>\n",
       "    </tr>\n",
       "    <tr>\n",
       "      <th>469</th>\n",
       "      <td>laptop</td>\n",
       "      <td>B-OTHOBJ</td>\n",
       "    </tr>\n",
       "    <tr>\n",
       "      <th>470</th>\n",
       "      <td>?</td>\n",
       "      <td>0</td>\n",
       "    </tr>\n",
       "    <tr>\n",
       "      <th>471</th>\n",
       "      <td></td>\n",
       "      <td></td>\n",
       "    </tr>\n",
       "  </tbody>\n",
       "</table>\n",
       "<p>472 rows × 2 columns</p>\n",
       "</div>"
      ],
      "text/plain": [
       "            word       tag\n",
       "0                         \n",
       "1             is         O\n",
       "2          pasta  B-ASPOBJ\n",
       "3         better         0\n",
       "4           than         0\n",
       "5          pizza  B-OTHOBJ\n",
       "6              ?         0\n",
       "7                         \n",
       "8             is         O\n",
       "9          mysql  B-ASPOBJ\n",
       "10        better         0\n",
       "11          than         0\n",
       "12    postgresql  B-OTHOBJ\n",
       "13             ?         0\n",
       "14                        \n",
       "15    california  B-ASPOBJ\n",
       "16            vs         0\n",
       "17      michigan  B-OTHOBJ\n",
       "18                        \n",
       "19            is         O\n",
       "20           ps2  B-ASPOBJ\n",
       "21         worse     B ASP\n",
       "22          than         0\n",
       "23           psp  B-OTHOBJ\n",
       "24             ?         0\n",
       "25                        \n",
       "26          what         O\n",
       "27            is         O\n",
       "28        better         0\n",
       "29       fishing  B-ASPOBJ\n",
       "..           ...       ...\n",
       "442           is         O\n",
       "443     chrysler  B-ASPOBJ\n",
       "444       easier     B ASP\n",
       "445         than         0\n",
       "446       toyota  B-OTHOBJ\n",
       "447            ?         0\n",
       "448                       \n",
       "449         what         O\n",
       "450           is         O\n",
       "451       slower     B ASP\n",
       "452        pasta  B-ASPOBJ\n",
       "453           or         0\n",
       "454         soup  B-OTHOBJ\n",
       "455            ?         0\n",
       "456                       \n",
       "457         what         O\n",
       "458           is         O\n",
       "459        nicer     B ASP\n",
       "460     gamecube  B-ASPOBJ\n",
       "461           or         0\n",
       "462  playstation  B-OTHOBJ\n",
       "463            ?         0\n",
       "464                       \n",
       "465           is         O\n",
       "466       iphone  B-ASPOBJ\n",
       "467       better         0\n",
       "468         than         0\n",
       "469       laptop  B-OTHOBJ\n",
       "470            ?         0\n",
       "471                       \n",
       "\n",
       "[472 rows x 2 columns]"
      ]
     },
     "execution_count": 28,
     "metadata": {},
     "output_type": "execute_result"
    }
   ],
   "source": [
    "wq_df_to_test.reset_index(drop=True)"
   ]
  },
  {
   "cell_type": "code",
   "execution_count": 65,
   "metadata": {},
   "outputs": [
    {
     "name": "stdout",
     "output_type": "stream",
     "text": [
      "/home/vika/NER_RNN/targer/data/NER/Asqua_CAM_aspects\n"
     ]
    }
   ],
   "source": [
    "!pwd"
   ]
  },
  {
   "cell_type": "code",
   "execution_count": 66,
   "metadata": {},
   "outputs": [],
   "source": [
    "import sys\n",
    "sys.path\n",
    "sys.path.append('/home/vika/NER_RNN/targer/')\n",
    "from src.classes.utils import get_words_num\n"
   ]
  },
  {
   "cell_type": "code",
   "execution_count": 90,
   "metadata": {},
   "outputs": [],
   "source": [
    "def read_data(fn, verbose=True, column_no=-1, splitter = ','):\n",
    "        word_sequences = list()\n",
    "        tag_sequences = list()\n",
    "        with codecs.open(fn, 'r', 'utf-8') as f:\n",
    "            lines = f.readlines()\n",
    "        curr_words = list()\n",
    "        curr_tags = list()\n",
    "        print (len(lines))\n",
    "        for k in range(len(lines)):\n",
    "            #print (lines[k])\n",
    "            line = lines[k].strip()\n",
    "            if len(line) == 1 or line.startswith('-DOCSTART-'): # new sentence or new document\n",
    "                if len(curr_words) > 0:\n",
    "                    word_sequences.append(curr_words)\n",
    "                    tag_sequences.append(curr_tags)\n",
    "                    curr_words = list()\n",
    "                    curr_tags = list()\n",
    "                continue\n",
    "            strings = line.split(',')\n",
    "            #print (strings)\n",
    "            word = strings[0]\n",
    "            #print (\"word\", word)\n",
    "            tag = strings[column_no] # be default, we take the last tag\n",
    "            #print (\"word\", tag)\n",
    "            curr_words.append(word)\n",
    "            curr_tags.append(tag)\n",
    "            if k == len(lines) - 1:\n",
    "                word_sequences.append(curr_words)\n",
    "                tag_sequences.append(curr_tags)\n",
    "        if verbose:\n",
    "            print('Loading from %s: %d samples, %d words.' % (fn, len(word_sequences), get_words_num(word_sequences)))\n",
    "        return word_sequences, tag_sequences\n"
   ]
  },
  {
   "cell_type": "code",
   "execution_count": 91,
   "metadata": {},
   "outputs": [
    {
     "name": "stdout",
     "output_type": "stream",
     "text": [
      "77534\n",
      "Loading from CAM_train_new.csv: 2661 samples, 74874 words.\n"
     ]
    }
   ],
   "source": [
    "a, b = read_data('CAM_train_new.csv')"
   ]
  },
  {
   "cell_type": "code",
   "execution_count": null,
   "metadata": {},
   "outputs": [],
   "source": []
  }
 ],
 "metadata": {
  "kernelspec": {
   "display_name": "Python 3",
   "language": "python",
   "name": "python3"
  },
  "language_info": {
   "codemirror_mode": {
    "name": "ipython",
    "version": 3
   },
   "file_extension": ".py",
   "mimetype": "text/x-python",
   "name": "python",
   "nbconvert_exporter": "python",
   "pygments_lexer": "ipython3",
   "version": "3.6.6"
  }
 },
 "nbformat": 4,
 "nbformat_minor": 2
}
